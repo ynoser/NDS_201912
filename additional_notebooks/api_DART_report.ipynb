{
 "cells": [
  {
   "cell_type": "markdown",
   "metadata": {},
   "source": [
    "### DART API 이용\n",
    "\n",
    "전자공시시스템(DART ; Data Analysis, Retrieval and Transfer System)은 상장법인 등이 공시서류를 인터넷으로 제출\n",
    "하고, 투자자 등 이용자는 제출 즉시 인터넷을 통해 조회할 수 있도록 하는 종합적 기업공시 시스템입니다.\n",
    "\n",
    "\n",
    "* [상장 법인 목록](https://kind.krx.co.kr/corpgeneral/corpList.do?method=loadInitPage)\n",
    "* [API 개발 가이드](https://dart.fss.or.kr/dsap001/guide.do)\n",
    "\n",
    "DART 크롤링 관련 포스팅 <br>\n",
    "https://kwonkyo.tistory.com/95"
   ]
  },
  {
   "cell_type": "markdown",
   "metadata": {},
   "source": [
    "## 1. 검색 API"
   ]
  },
  {
   "cell_type": "code",
   "execution_count": 1,
   "metadata": {},
   "outputs": [],
   "source": [
    "import pandas as pd\n",
    "from bs4 import BeautifulSoup\n",
    "from urllib.request import urlopen\n",
    "import webbrowser"
   ]
  },
  {
   "cell_type": "code",
   "execution_count": 50,
   "metadata": {},
   "outputs": [
    {
     "data": {
      "text/html": [
       "<div>\n",
       "<style scoped>\n",
       "    .dataframe tbody tr th:only-of-type {\n",
       "        vertical-align: middle;\n",
       "    }\n",
       "\n",
       "    .dataframe tbody tr th {\n",
       "        vertical-align: top;\n",
       "    }\n",
       "\n",
       "    .dataframe thead th {\n",
       "        text-align: right;\n",
       "    }\n",
       "</style>\n",
       "<table border=\"1\" class=\"dataframe\">\n",
       "  <thead>\n",
       "    <tr style=\"text-align: right;\">\n",
       "      <th></th>\n",
       "      <th>회사명</th>\n",
       "      <th>종목코드</th>\n",
       "      <th>업종</th>\n",
       "      <th>주요제품</th>\n",
       "      <th>상장일</th>\n",
       "      <th>결산월</th>\n",
       "      <th>대표자명</th>\n",
       "      <th>홈페이지</th>\n",
       "      <th>지역</th>\n",
       "    </tr>\n",
       "  </thead>\n",
       "  <tbody>\n",
       "    <tr>\n",
       "      <td>0</td>\n",
       "      <td>아이티엠반도체</td>\n",
       "      <td>84850</td>\n",
       "      <td>전자부품 제조업</td>\n",
       "      <td>배터리 보호회로</td>\n",
       "      <td>2019-11-07</td>\n",
       "      <td>12월</td>\n",
       "      <td>나혁휘</td>\n",
       "      <td>NaN</td>\n",
       "      <td>충청북도</td>\n",
       "    </tr>\n",
       "    <tr>\n",
       "      <td>1</td>\n",
       "      <td>미래에셋대우스팩4호</td>\n",
       "      <td>333430</td>\n",
       "      <td>금융 지원 서비스업</td>\n",
       "      <td>기업인수합병</td>\n",
       "      <td>2019-11-06</td>\n",
       "      <td>12월</td>\n",
       "      <td>서재일</td>\n",
       "      <td>NaN</td>\n",
       "      <td>서울특별시</td>\n",
       "    </tr>\n",
       "  </tbody>\n",
       "</table>\n",
       "</div>"
      ],
      "text/plain": [
       "          회사명    종목코드          업종      주요제품        상장일  결산월 대표자명 홈페이지     지역\n",
       "0     아이티엠반도체   84850    전자부품 제조업  배터리 보호회로 2019-11-07  12월  나혁휘  NaN   충청북도\n",
       "1  미래에셋대우스팩4호  333430  금융 지원 서비스업    기업인수합병 2019-11-06  12월  서재일  NaN  서울특별시"
      ]
     },
     "execution_count": 50,
     "metadata": {},
     "output_type": "execute_result"
    }
   ],
   "source": [
    "df_cd = pd.read_excel(\"상장법인목록.xlsx\")\n",
    "df_cd.head(2)"
   ]
  },
  {
   "cell_type": "code",
   "execution_count": 55,
   "metadata": {},
   "outputs": [
    {
     "data": {
      "text/html": [
       "<div>\n",
       "<style scoped>\n",
       "    .dataframe tbody tr th:only-of-type {\n",
       "        vertical-align: middle;\n",
       "    }\n",
       "\n",
       "    .dataframe tbody tr th {\n",
       "        vertical-align: top;\n",
       "    }\n",
       "\n",
       "    .dataframe thead th {\n",
       "        text-align: right;\n",
       "    }\n",
       "</style>\n",
       "<table border=\"1\" class=\"dataframe\">\n",
       "  <thead>\n",
       "    <tr style=\"text-align: right;\">\n",
       "      <th></th>\n",
       "      <th>회사명</th>\n",
       "      <th>종목코드</th>\n",
       "      <th>업종</th>\n",
       "      <th>주요제품</th>\n",
       "      <th>상장일</th>\n",
       "    </tr>\n",
       "  </thead>\n",
       "  <tbody>\n",
       "    <tr>\n",
       "      <td>1349</td>\n",
       "      <td>농심홀딩스</td>\n",
       "      <td>72710</td>\n",
       "      <td>기타 금융업</td>\n",
       "      <td>지주회사,투자자문,경영컨설팅 서비스</td>\n",
       "      <td>2003-07-30</td>\n",
       "    </tr>\n",
       "    <tr>\n",
       "      <td>2198</td>\n",
       "      <td>농심</td>\n",
       "      <td>4370</td>\n",
       "      <td>기타 식품 제조업</td>\n",
       "      <td>라면,스낵,유지 제조,도매,수출입</td>\n",
       "      <td>1976-06-30</td>\n",
       "    </tr>\n",
       "  </tbody>\n",
       "</table>\n",
       "</div>"
      ],
      "text/plain": [
       "        회사명   종목코드         업종                 주요제품        상장일\n",
       "1349  농심홀딩스  72710     기타 금융업  지주회사,투자자문,경영컨설팅 서비스 2003-07-30\n",
       "2198     농심   4370  기타 식품 제조업   라면,스낵,유지 제조,도매,수출입 1976-06-30"
      ]
     },
     "execution_count": 55,
     "metadata": {},
     "output_type": "execute_result"
    }
   ],
   "source": [
    "df_cd_sub = df_cd.loc[df_cd[\"회사명\"].str.contains(\"농심\"), :\"상장일\"]\n",
    "df_cd_sub"
   ]
  },
  {
   "cell_type": "code",
   "execution_count": 58,
   "metadata": {},
   "outputs": [
    {
     "data": {
      "text/plain": [
       "'072710'"
      ]
     },
     "execution_count": 58,
     "metadata": {},
     "output_type": "execute_result"
    }
   ],
   "source": [
    "key = \"a54fb6800ce976dc0a7d4862d0dfc72b1bcdc86f\"\n",
    "date_start = \"19600101\"\n",
    "company_cd = df_cd_sub.reset_index(drop=True)[\"종목코드\"][0]\n",
    "company_cd = str(company_cd).zfill(6)\n",
    "company_cd"
   ]
  },
  {
   "cell_type": "code",
   "execution_count": 59,
   "metadata": {},
   "outputs": [
    {
     "data": {
      "text/plain": [
       "'http://dart.fss.or.kr/api/search.xml?auth=a54fb6800ce976dc0a7d4862d0dfc72b1bcdc86f&crp_cd=072710&start_dt=19600101&bsn_tp=A001&bsn_tp=A002&bsn_tp=A003'"
      ]
     },
     "execution_count": 59,
     "metadata": {},
     "output_type": "execute_result"
    }
   ],
   "source": [
    "url_main = \"http://dart.fss.or.kr/api/search.xml?auth={0}&crp_cd={1}&start_dt={2}&bsn_tp=A001&bsn_tp=A002&bsn_tp=A003\"\n",
    "url = url_main.format(key, company_cd, date_start)\n",
    "url"
   ]
  },
  {
   "cell_type": "code",
   "execution_count": 60,
   "metadata": {},
   "outputs": [],
   "source": [
    "text = urlopen(url).read()\n",
    "text_bs = BeautifulSoup(text, \"lxml-xml\")"
   ]
  },
  {
   "cell_type": "code",
   "execution_count": 61,
   "metadata": {},
   "outputs": [
    {
     "data": {
      "text/plain": [
       "<?xml version=\"1.0\" encoding=\"utf-8\"?>\n",
       "<result>\n",
       "<err_code>000</err_code>\n",
       "<err_msg>정상</err_msg>\n",
       "<page_no>1</page_no>\n",
       "<page_set>10</page_set>\n",
       "<total_count>70</total_count>\n",
       "<total_page>7</total_page>\n",
       "<list>\n",
       "<crp_cls>Y</crp_cls>\n",
       "<crp_nm>농심홀딩스</crp_nm>\n",
       "<crp_cd>072710</crp_cd>\n",
       "<rpt_nm>분기보고서 (2019.09)</rpt_nm>\n",
       "<rcp_no>20191114001043</rcp_no>\n",
       "<flr_nm>농심홀딩스</flr_nm>\n",
       "<rcp_dt>20191114</rcp_dt>\n",
       "<rmk/>\n",
       "</list>\n",
       "<list>\n",
       "<crp_cls>Y</crp_cls>\n",
       "<crp_nm>농심홀딩스</crp_nm>\n",
       "<crp_cd>072710</crp_cd>\n",
       "<rpt_nm>반기보고서 (2019.06)</rpt_nm>\n",
       "<rcp_no>20190814001996</rcp_no>\n",
       "<flr_nm>농심홀딩스</flr_nm>\n",
       "<rcp_dt>20190814</rcp_dt>\n",
       "<rmk/>\n",
       "</list>\n",
       "<list>\n",
       "<crp_cls>Y</crp_cls>\n",
       "<crp_nm>농심홀딩스</crp_nm>\n",
       "<crp_cd>072710</crp_cd>\n",
       "<rpt_nm>분기보고서 (2019.03)</rpt_nm>\n",
       "<rcp_no>20190515001783</rcp_no>\n",
       "<flr_nm>농심홀딩스</flr_nm>\n",
       "<rcp_dt>20190515</rcp_dt>\n",
       "<rmk/>\n",
       "</list>\n",
       "<list>\n",
       "<crp_cls>Y</crp_cls>\n",
       "<crp_nm>농심홀딩스</crp_nm>\n",
       "<crp_cd>072710</crp_cd>\n",
       "<rpt_nm>사업보고서 (2018.12)</rpt_nm>\n",
       "<rcp_no>20190401003386</rcp_no>\n",
       "<flr_nm>농심홀딩스</flr_nm>\n",
       "<rcp_dt>20190401</rcp_dt>\n",
       "<rmk>연</rmk>\n",
       "</list>\n",
       "<list>\n",
       "<crp_cls>Y</crp_cls>\n",
       "<crp_nm>농심홀딩스</crp_nm>\n",
       "<crp_cd>072710</crp_cd>\n",
       "<rpt_nm>분기보고서 (2018.09)</rpt_nm>\n",
       "<rcp_no>20181114002737</rcp_no>\n",
       "<flr_nm>농심홀딩스</flr_nm>\n",
       "<rcp_dt>20181114</rcp_dt>\n",
       "<rmk/>\n",
       "</list>\n",
       "<list>\n",
       "<crp_cls>Y</crp_cls>\n",
       "<crp_nm>농심홀딩스</crp_nm>\n",
       "<crp_cd>072710</crp_cd>\n",
       "<rpt_nm>반기보고서 (2018.06)</rpt_nm>\n",
       "<rcp_no>20180814002569</rcp_no>\n",
       "<flr_nm>농심홀딩스</flr_nm>\n",
       "<rcp_dt>20180814</rcp_dt>\n",
       "<rmk/>\n",
       "</list>\n",
       "<list>\n",
       "<crp_cls>Y</crp_cls>\n",
       "<crp_nm>농심홀딩스</crp_nm>\n",
       "<crp_cd>072710</crp_cd>\n",
       "<rpt_nm>분기보고서 (2018.03)</rpt_nm>\n",
       "<rcp_no>20180515002574</rcp_no>\n",
       "<flr_nm>농심홀딩스</flr_nm>\n",
       "<rcp_dt>20180515</rcp_dt>\n",
       "<rmk/>\n",
       "</list>\n",
       "<list>\n",
       "<crp_cls>Y</crp_cls>\n",
       "<crp_nm>농심홀딩스</crp_nm>\n",
       "<crp_cd>072710</crp_cd>\n",
       "<rpt_nm>사업보고서 (2017.12)</rpt_nm>\n",
       "<rcp_no>20180402005190</rcp_no>\n",
       "<flr_nm>농심홀딩스</flr_nm>\n",
       "<rcp_dt>20180402</rcp_dt>\n",
       "<rmk>연</rmk>\n",
       "</list>\n",
       "<list>\n",
       "<crp_cls>Y</crp_cls>\n",
       "<crp_nm>농심홀딩스</crp_nm>\n",
       "<crp_cd>072710</crp_cd>\n",
       "<rpt_nm>분기보고서 (2017.09)</rpt_nm>\n",
       "<rcp_no>20171114002295</rcp_no>\n",
       "<flr_nm>농심홀딩스</flr_nm>\n",
       "<rcp_dt>20171114</rcp_dt>\n",
       "<rmk/>\n",
       "</list>\n",
       "<list>\n",
       "<crp_cls>Y</crp_cls>\n",
       "<crp_nm>농심홀딩스</crp_nm>\n",
       "<crp_cd>072710</crp_cd>\n",
       "<rpt_nm>반기보고서 (2017.06)</rpt_nm>\n",
       "<rcp_no>20170814002293</rcp_no>\n",
       "<flr_nm>농심홀딩스</flr_nm>\n",
       "<rcp_dt>20170814</rcp_dt>\n",
       "<rmk/>\n",
       "</list>\n",
       "</result>"
      ]
     },
     "execution_count": 61,
     "metadata": {},
     "output_type": "execute_result"
    }
   ],
   "source": [
    "text_bs"
   ]
  },
  {
   "cell_type": "code",
   "execution_count": 62,
   "metadata": {},
   "outputs": [
    {
     "data": {
      "text/plain": [
       "[<list>\n",
       " <crp_cls>Y</crp_cls>\n",
       " <crp_nm>농심홀딩스</crp_nm>\n",
       " <crp_cd>072710</crp_cd>\n",
       " <rpt_nm>분기보고서 (2019.09)</rpt_nm>\n",
       " <rcp_no>20191114001043</rcp_no>\n",
       " <flr_nm>농심홀딩스</flr_nm>\n",
       " <rcp_dt>20191114</rcp_dt>\n",
       " <rmk/>\n",
       " </list>, <list>\n",
       " <crp_cls>Y</crp_cls>\n",
       " <crp_nm>농심홀딩스</crp_nm>\n",
       " <crp_cd>072710</crp_cd>\n",
       " <rpt_nm>반기보고서 (2019.06)</rpt_nm>\n",
       " <rcp_no>20190814001996</rcp_no>\n",
       " <flr_nm>농심홀딩스</flr_nm>\n",
       " <rcp_dt>20190814</rcp_dt>\n",
       " <rmk/>\n",
       " </list>]"
      ]
     },
     "execution_count": 62,
     "metadata": {},
     "output_type": "execute_result"
    }
   ],
   "source": [
    "te = text_bs.findAll(\"list\")\n",
    "te[0:2]"
   ]
  },
  {
   "cell_type": "code",
   "execution_count": 63,
   "metadata": {},
   "outputs": [],
   "source": [
    "df = pd.DataFrame()\n",
    "for t in te:\n",
    "    df_sub = pd.DataFrame(([[t.crp_cls.string,\n",
    "                             t.crp_nm.string,\n",
    "                             t.crp_cd.string,\n",
    "                             t.rpt_nm.string,\n",
    "                             t.rcp_no.string,\n",
    "                             t.flr_nm.string,\n",
    "                             t.rcp_dt.string,\n",
    "                             t.rmk.string]]))\n",
    "    df = pd.concat([df, df_sub])\n",
    "df.columns = [\"crp_cls\",\"crp_nm\",\"crp_cd\",\"rpt_nm\",\n",
    "              \"rcp_no\",\"flr_nm\",\"rcp_dt\",\"rmk\"]"
   ]
  },
  {
   "cell_type": "code",
   "execution_count": 64,
   "metadata": {},
   "outputs": [
    {
     "data": {
      "text/html": [
       "<div>\n",
       "<style scoped>\n",
       "    .dataframe tbody tr th:only-of-type {\n",
       "        vertical-align: middle;\n",
       "    }\n",
       "\n",
       "    .dataframe tbody tr th {\n",
       "        vertical-align: top;\n",
       "    }\n",
       "\n",
       "    .dataframe thead th {\n",
       "        text-align: right;\n",
       "    }\n",
       "</style>\n",
       "<table border=\"1\" class=\"dataframe\">\n",
       "  <thead>\n",
       "    <tr style=\"text-align: right;\">\n",
       "      <th></th>\n",
       "      <th>crp_cls</th>\n",
       "      <th>crp_nm</th>\n",
       "      <th>crp_cd</th>\n",
       "      <th>rpt_nm</th>\n",
       "      <th>rcp_no</th>\n",
       "      <th>flr_nm</th>\n",
       "      <th>rcp_dt</th>\n",
       "      <th>rmk</th>\n",
       "    </tr>\n",
       "  </thead>\n",
       "  <tbody>\n",
       "    <tr>\n",
       "      <td>0</td>\n",
       "      <td>Y</td>\n",
       "      <td>농심홀딩스</td>\n",
       "      <td>072710</td>\n",
       "      <td>분기보고서 (2019.09)</td>\n",
       "      <td>20191114001043</td>\n",
       "      <td>농심홀딩스</td>\n",
       "      <td>20191114</td>\n",
       "      <td>None</td>\n",
       "    </tr>\n",
       "    <tr>\n",
       "      <td>1</td>\n",
       "      <td>Y</td>\n",
       "      <td>농심홀딩스</td>\n",
       "      <td>072710</td>\n",
       "      <td>반기보고서 (2019.06)</td>\n",
       "      <td>20190814001996</td>\n",
       "      <td>농심홀딩스</td>\n",
       "      <td>20190814</td>\n",
       "      <td>None</td>\n",
       "    </tr>\n",
       "    <tr>\n",
       "      <td>2</td>\n",
       "      <td>Y</td>\n",
       "      <td>농심홀딩스</td>\n",
       "      <td>072710</td>\n",
       "      <td>분기보고서 (2019.03)</td>\n",
       "      <td>20190515001783</td>\n",
       "      <td>농심홀딩스</td>\n",
       "      <td>20190515</td>\n",
       "      <td>None</td>\n",
       "    </tr>\n",
       "    <tr>\n",
       "      <td>3</td>\n",
       "      <td>Y</td>\n",
       "      <td>농심홀딩스</td>\n",
       "      <td>072710</td>\n",
       "      <td>사업보고서 (2018.12)</td>\n",
       "      <td>20190401003386</td>\n",
       "      <td>농심홀딩스</td>\n",
       "      <td>20190401</td>\n",
       "      <td>연</td>\n",
       "    </tr>\n",
       "    <tr>\n",
       "      <td>4</td>\n",
       "      <td>Y</td>\n",
       "      <td>농심홀딩스</td>\n",
       "      <td>072710</td>\n",
       "      <td>분기보고서 (2018.09)</td>\n",
       "      <td>20181114002737</td>\n",
       "      <td>농심홀딩스</td>\n",
       "      <td>20181114</td>\n",
       "      <td>None</td>\n",
       "    </tr>\n",
       "  </tbody>\n",
       "</table>\n",
       "</div>"
      ],
      "text/plain": [
       "  crp_cls crp_nm  crp_cd           rpt_nm          rcp_no flr_nm    rcp_dt  \\\n",
       "0       Y  농심홀딩스  072710  분기보고서 (2019.09)  20191114001043  농심홀딩스  20191114   \n",
       "1       Y  농심홀딩스  072710  반기보고서 (2019.06)  20190814001996  농심홀딩스  20190814   \n",
       "2       Y  농심홀딩스  072710  분기보고서 (2019.03)  20190515001783  농심홀딩스  20190515   \n",
       "3       Y  농심홀딩스  072710  사업보고서 (2018.12)  20190401003386  농심홀딩스  20190401   \n",
       "4       Y  농심홀딩스  072710  분기보고서 (2018.09)  20181114002737  농심홀딩스  20181114   \n",
       "\n",
       "    rmk  \n",
       "0  None  \n",
       "1  None  \n",
       "2  None  \n",
       "3     연  \n",
       "4  None  "
      ]
     },
     "execution_count": 64,
     "metadata": {},
     "output_type": "execute_result"
    }
   ],
   "source": [
    "df = df.reset_index(drop = True)\n",
    "df.head()"
   ]
  },
  {
   "cell_type": "code",
   "execution_count": 65,
   "metadata": {},
   "outputs": [
    {
     "data": {
      "text/plain": [
       "'http://dart.fss.or.kr/dsaf001/main.do?rcpNo=20191114001043'"
      ]
     },
     "execution_count": 65,
     "metadata": {},
     "output_type": "execute_result"
    }
   ],
   "source": [
    "# user_num = int(input(\"몇 번째 보고서를 확인하시겠습니까?\"))\n",
    "url_report = \"http://dart.fss.or.kr/dsaf001/main.do?rcpNo=\" + df['rcp_no'][0]\n",
    "url_report\n",
    "# webbrowser.open(url_user)"
   ]
  },
  {
   "cell_type": "markdown",
   "metadata": {},
   "source": [
    "## 2. 기업개황 API"
   ]
  },
  {
   "cell_type": "code",
   "execution_count": 45,
   "metadata": {},
   "outputs": [
    {
     "data": {
      "text/plain": [
       "'http://dart.fss.or.kr/api/company.json?auth=a54fb6800ce976dc0a7d4862d0dfc72b1bcdc86f&crp_cd=004370'"
      ]
     },
     "execution_count": 45,
     "metadata": {},
     "output_type": "execute_result"
    }
   ],
   "source": [
    "url_company = \"http://dart.fss.or.kr/api/company.json?auth={0}&crp_cd={1}\"\n",
    "crpcode = \"004370\"\n",
    "url = url_company.format(key, crpcode)\n",
    "url"
   ]
  },
  {
   "cell_type": "code",
   "execution_count": 46,
   "metadata": {},
   "outputs": [],
   "source": [
    "import requests\n",
    "import json"
   ]
  },
  {
   "cell_type": "code",
   "execution_count": 47,
   "metadata": {},
   "outputs": [
    {
     "data": {
      "text/plain": [
       "{'err_code': '000',\n",
       " 'err_msg': '정상',\n",
       " 'crp_nm': '(주)농심',\n",
       " 'crp_nm_e': 'NONGSHIM CO.,LTD',\n",
       " 'crp_nm_i': '농심',\n",
       " 'stock_cd': '004370',\n",
       " 'ceo_nm': '신동원, 박 준',\n",
       " 'crp_cls': 'Y',\n",
       " 'crp_no': '1101110057574',\n",
       " 'bsn_no': '1188103914',\n",
       " 'adr': '서울특별시 동작구  여의대방로 112',\n",
       " 'hm_url': 'www.nongshim.com',\n",
       " 'ir_url': '',\n",
       " 'phn_no': '02-820-7114',\n",
       " 'fax_no': '02-820-7044',\n",
       " 'ind_cd': '107',\n",
       " 'est_dt': '19650918',\n",
       " 'acc_mt': '12'}"
      ]
     },
     "execution_count": 47,
     "metadata": {},
     "output_type": "execute_result"
    }
   ],
   "source": [
    "response = requests.get(url)\n",
    "text = json.loads(response.content)\n",
    "text"
   ]
  },
  {
   "cell_type": "code",
   "execution_count": 48,
   "metadata": {},
   "outputs": [
    {
     "data": {
      "text/html": [
       "<div>\n",
       "<style scoped>\n",
       "    .dataframe tbody tr th:only-of-type {\n",
       "        vertical-align: middle;\n",
       "    }\n",
       "\n",
       "    .dataframe tbody tr th {\n",
       "        vertical-align: top;\n",
       "    }\n",
       "\n",
       "    .dataframe thead th {\n",
       "        text-align: right;\n",
       "    }\n",
       "</style>\n",
       "<table border=\"1\" class=\"dataframe\">\n",
       "  <thead>\n",
       "    <tr style=\"text-align: right;\">\n",
       "      <th></th>\n",
       "      <th>err_code</th>\n",
       "      <th>err_msg</th>\n",
       "      <th>crp_nm</th>\n",
       "      <th>crp_nm_e</th>\n",
       "      <th>crp_nm_i</th>\n",
       "      <th>stock_cd</th>\n",
       "      <th>ceo_nm</th>\n",
       "      <th>crp_cls</th>\n",
       "      <th>crp_no</th>\n",
       "      <th>bsn_no</th>\n",
       "      <th>adr</th>\n",
       "      <th>hm_url</th>\n",
       "      <th>ir_url</th>\n",
       "      <th>phn_no</th>\n",
       "      <th>fax_no</th>\n",
       "      <th>ind_cd</th>\n",
       "      <th>est_dt</th>\n",
       "      <th>acc_mt</th>\n",
       "    </tr>\n",
       "  </thead>\n",
       "  <tbody>\n",
       "    <tr>\n",
       "      <td>0</td>\n",
       "      <td>000</td>\n",
       "      <td>정상</td>\n",
       "      <td>(주)농심</td>\n",
       "      <td>NONGSHIM CO.,LTD</td>\n",
       "      <td>농심</td>\n",
       "      <td>004370</td>\n",
       "      <td>신동원, 박 준</td>\n",
       "      <td>Y</td>\n",
       "      <td>1101110057574</td>\n",
       "      <td>1188103914</td>\n",
       "      <td>서울특별시 동작구  여의대방로 112</td>\n",
       "      <td>www.nongshim.com</td>\n",
       "      <td></td>\n",
       "      <td>02-820-7114</td>\n",
       "      <td>02-820-7044</td>\n",
       "      <td>107</td>\n",
       "      <td>19650918</td>\n",
       "      <td>12</td>\n",
       "    </tr>\n",
       "  </tbody>\n",
       "</table>\n",
       "</div>"
      ],
      "text/plain": [
       "  err_code err_msg crp_nm          crp_nm_e crp_nm_i stock_cd    ceo_nm  \\\n",
       "0      000      정상  (주)농심  NONGSHIM CO.,LTD       농심   004370  신동원, 박 준   \n",
       "\n",
       "  crp_cls         crp_no      bsn_no                   adr            hm_url  \\\n",
       "0       Y  1101110057574  1188103914  서울특별시 동작구  여의대방로 112  www.nongshim.com   \n",
       "\n",
       "  ir_url       phn_no       fax_no ind_cd    est_dt acc_mt  \n",
       "0         02-820-7114  02-820-7044    107  19650918     12  "
      ]
     },
     "execution_count": 48,
     "metadata": {},
     "output_type": "execute_result"
    }
   ],
   "source": [
    "from pandas.io.json import json_normalize\n",
    "json_normalize(text)"
   ]
  },
  {
   "cell_type": "code",
   "execution_count": null,
   "metadata": {},
   "outputs": [],
   "source": []
  }
 ],
 "metadata": {
  "kernelspec": {
   "display_name": "Python 3",
   "language": "python",
   "name": "python3"
  },
  "language_info": {
   "codemirror_mode": {
    "name": "ipython",
    "version": 3
   },
   "file_extension": ".py",
   "mimetype": "text/x-python",
   "name": "python",
   "nbconvert_exporter": "python",
   "pygments_lexer": "ipython3",
   "version": "3.7.4"
  }
 },
 "nbformat": 4,
 "nbformat_minor": 2
}
